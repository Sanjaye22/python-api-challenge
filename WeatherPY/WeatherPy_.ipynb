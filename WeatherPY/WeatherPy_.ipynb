{
 "cells": [
  {
   "cell_type": "markdown",
   "metadata": {},
   "source": [
    "# WeatherPy\n",
    "----\n",
    "Observable Trends\n",
    "1. The closer to the equator, the more elevated the temperature levels.\n",
    "2. The latitude and temperature correlation for the hemispheres are the opposite. Northern Hemisphere reflects moderate negative correlation vs the Southern Hemisphere reflects moderate positve correlation.\n",
    "3. There is no correlation between latitude and cloudiness for both hemispheres."
   ]
  },
  {
   "cell_type": "code",
   "execution_count": 1,
   "metadata": {
    "scrolled": true
   },
   "outputs": [],
   "source": [
    "# Dependencies and Setup\n",
    "import matplotlib.pyplot as plt\n",
    "import pandas as pd\n",
    "import numpy as np\n",
    "import requests\n",
    "import time\n",
    "import datetime\n",
    "from scipy.stats import linregress\n",
    "\n",
    "# Import API key\n",
    "from api_keys import weather_api_key\n",
    "\n",
    "# Incorporated citipy to determine city based on latitude and longitude\n",
    "from citipy import citipy\n",
    "\n",
    "# Output File (CSV)\n",
    "output_data_file = \"output_data/cities.csv\"\n",
    "\n",
    "# Range of latitudes and longitudes\n",
    "lat_range = (-90, 90)\n",
    "lng_range = (-180, 180)\n"
   ]
  },
  {
   "cell_type": "markdown",
   "metadata": {},
   "source": [
    "## Generate Cities List"
   ]
  },
  {
   "cell_type": "code",
   "execution_count": 2,
   "metadata": {},
   "outputs": [
    {
     "data": {
      "text/plain": [
       "593"
      ]
     },
     "execution_count": 2,
     "metadata": {},
     "output_type": "execute_result"
    }
   ],
   "source": [
    "# List for holding lat_lngs and cities\n",
    "lat_lngs = []\n",
    "cities = []\n",
    "\n",
    "# Create a set of random lat and lng combinations\n",
    "lats = np.random.uniform(lat_range[0], lat_range[1], size=1500)\n",
    "lngs = np.random.uniform(lng_range[0], lng_range[1], size=1500)\n",
    "lat_lngs = zip(lats, lngs)\n",
    "\n",
    "# Identify nearest city for each lat, lng combination\n",
    "for lat_lng in lat_lngs:\n",
    "    city = citipy.nearest_city(lat_lng[0], lat_lng[1]).city_name\n",
    "    \n",
    "    # If the city is unique, then add it to a our cities list\n",
    "    if city not in cities:\n",
    "        cities.append(city)\n",
    "\n",
    "# Print the city count to confirm sufficient count\n",
    "len(cities)"
   ]
  },
  {
   "cell_type": "markdown",
   "metadata": {},
   "source": [
    "### Perform API Calls\n",
    "* Perform a weather check on each city using a series of successive API calls.\n",
    "* Include a print log of each city as it'sbeing processed (with the city number and city name).\n"
   ]
  },
  {
   "cell_type": "code",
   "execution_count": 3,
   "metadata": {},
   "outputs": [
    {
     "name": "stdout",
     "output_type": "stream",
     "text": [
      "Print Record 1 of Set 1 : ushuaia\n",
      "Print Record 2 of Set 1 : bethel\n",
      "Print Record 3 of Set 1 : georgetown\n",
      "Print Record 4 of Set 1 : hermanus\n",
      "Print Record 5 of Set 1 : albany\n",
      "Print Record 6 of Set 1 : barranca\n",
      "Print Record 7 of Set 1 : barrow\n",
      "Print Record 8 of Set 1 : chuy\n",
      "Print Record 9 of Set 1 : mataura\n",
      "Print Record 10 of Set 1 : rundu\n",
      "Print Record 11 of Set 1 : jamestown\n",
      "Print Record 12 of Set 1 : saint george\n",
      "Print Record 13 of Set 1 : cherskiy\n",
      "Print Record 14 of Set 1 : new norfolk\n",
      "Print Record 15 of Set 1 : labuhan\n",
      "Print Record 16 of Set 1 : dembi dolo\n",
      "Print Record 17 of Set 1 : yellowknife\n",
      "Print Record 18 of Set 1 : zhigansk\n",
      "Print Record 19 of Set 1 : fort wellington\n",
      "Print Record 20 of Set 1 : constitucion\n",
      "Print Record 21 of Set 1 : bengkulu\n",
      "Print Record 22 of Set 1 : castro\n",
      "Print Record 23 of Set 1 : bluff\n",
      "Print Record 24 of Set 1 : busselton\n",
      "Print Record 25 of Set 1 : hofn\n",
      "City not found. Skipping...\n",
      "Print Record 26 of Set 1 : gat\n",
      "Print Record 27 of Set 1 : esperance\n",
      "City not found. Skipping...\n",
      "Print Record 28 of Set 1 : chapais\n",
      "City not found. Skipping...\n",
      "Print Record 29 of Set 1 : hilo\n",
      "Print Record 30 of Set 1 : east london\n",
      "Print Record 31 of Set 1 : karratha\n",
      "Print Record 32 of Set 1 : dingle\n",
      "Print Record 33 of Set 1 : kholtoson\n",
      "Print Record 34 of Set 1 : iqaluit\n",
      "Print Record 35 of Set 1 : nikolskoye\n",
      "Print Record 36 of Set 1 : mahebourg\n",
      "Print Record 37 of Set 1 : champerico\n",
      "Print Record 38 of Set 1 : cajetina\n",
      "Print Record 39 of Set 1 : thompson\n",
      "Print Record 40 of Set 1 : rikitea\n",
      "Print Record 41 of Set 1 : north bend\n",
      "Print Record 42 of Set 1 : hambantota\n",
      "Print Record 43 of Set 1 : fort nelson\n",
      "Print Record 44 of Set 1 : mangrol\n",
      "Print Record 45 of Set 1 : punta arenas\n",
      "Print Record 46 of Set 1 : dikson\n",
      "Print Record 47 of Set 1 : cervo\n",
      "Print Record 48 of Set 1 : hasaki\n",
      "Print Record 49 of Set 1 : nanortalik\n",
      "Print Record 50 of Set 1 : kasama\n",
      "Print Record 0 of Set 2 : kudahuvadhoo\n",
      "Print Record 1 of Set 2 : comodoro rivadavia\n",
      "Print Record 2 of Set 2 : lethem\n",
      "Print Record 3 of Set 2 : novyy urgal\n",
      "Print Record 4 of Set 2 : san cristobal\n",
      "Print Record 5 of Set 2 : port alfred\n",
      "Print Record 6 of Set 2 : sorrento\n",
      "Print Record 7 of Set 2 : opuwo\n",
      "Print Record 8 of Set 2 : hobart\n",
      "Print Record 9 of Set 2 : yamethin\n",
      "Print Record 10 of Set 2 : vao\n",
      "Print Record 11 of Set 2 : benjamin hill\n",
      "Print Record 12 of Set 2 : vestmannaeyjar\n",
      "Print Record 13 of Set 2 : datong\n",
      "Print Record 14 of Set 2 : ulaangom\n",
      "Print Record 15 of Set 2 : wanning\n",
      "Print Record 16 of Set 2 : sao filipe\n",
      "Print Record 17 of Set 2 : saint-philippe\n",
      "Print Record 18 of Set 2 : sitio novo do tocantins\n",
      "Print Record 19 of Set 2 : tiksi\n",
      "Print Record 20 of Set 2 : kashira\n",
      "Print Record 21 of Set 2 : beyla\n",
      "Print Record 22 of Set 2 : truro\n",
      "Print Record 23 of Set 2 : wuchang\n",
      "Print Record 24 of Set 2 : fairbanks\n",
      "Print Record 25 of Set 2 : bredasdorp\n",
      "City not found. Skipping...\n",
      "Print Record 26 of Set 2 : tasiilaq\n",
      "Print Record 27 of Set 2 : salta\n",
      "Print Record 28 of Set 2 : usinsk\n",
      "Print Record 29 of Set 2 : hamada\n",
      "City not found. Skipping...\n",
      "Print Record 30 of Set 2 : banepa\n",
      "City not found. Skipping...\n",
      "Print Record 31 of Set 2 : skjervoy\n",
      "Print Record 32 of Set 2 : lingao\n",
      "Print Record 33 of Set 2 : avarua\n",
      "Print Record 34 of Set 2 : sompeta\n",
      "Print Record 35 of Set 2 : road town\n",
      "Print Record 36 of Set 2 : beringovskiy\n",
      "City not found. Skipping...\n",
      "Print Record 37 of Set 2 : invermere\n",
      "Print Record 38 of Set 2 : airai\n",
      "Print Record 39 of Set 2 : santa cruz\n",
      "Print Record 40 of Set 2 : urumqi\n",
      "Print Record 41 of Set 2 : upernavik\n",
      "Print Record 42 of Set 2 : karlshamn\n",
      "Print Record 43 of Set 2 : carnarvon\n",
      "Print Record 44 of Set 2 : vaini\n",
      "Print Record 45 of Set 2 : geraldton\n",
      "Print Record 46 of Set 2 : toluviejo\n",
      "Print Record 47 of Set 2 : bubaque\n",
      "Print Record 48 of Set 2 : ust-kulom\n",
      "Print Record 49 of Set 2 : tommot\n",
      "Print Record 50 of Set 2 : hithadhoo\n",
      "Print Record 0 of Set 3 : aklavik\n",
      "Print Record 1 of Set 3 : santa maria\n",
      "Print Record 2 of Set 3 : lebu\n",
      "Print Record 3 of Set 3 : jiayuguan\n",
      "Print Record 4 of Set 3 : tayu\n",
      "Print Record 5 of Set 3 : debre zeyit\n",
      "Print Record 6 of Set 3 : laguna\n",
      "Print Record 7 of Set 3 : bambous virieux\n",
      "Print Record 8 of Set 3 : tuktoyaktuk\n",
      "Print Record 9 of Set 3 : ahipara\n",
      "City not found. Skipping...\n",
      "Print Record 10 of Set 3 : saskylakh\n",
      "City not found. Skipping...\n",
      "Print Record 11 of Set 3 : kapaa\n",
      "Print Record 12 of Set 3 : qaanaaq\n",
      "City not found. Skipping...\n",
      "Print Record 13 of Set 3 : den helder\n",
      "City not found. Skipping...\n",
      "Print Record 14 of Set 3 : butaritari\n",
      "Print Record 15 of Set 3 : la ronge\n",
      "Print Record 16 of Set 3 : mount gambier\n",
      "Print Record 17 of Set 3 : salvador\n",
      "Print Record 18 of Set 3 : vostok\n",
      "Print Record 19 of Set 3 : chirongui\n",
      "Print Record 20 of Set 3 : puerto ayora\n",
      "Print Record 21 of Set 3 : monze\n",
      "Print Record 22 of Set 3 : mandawar\n",
      "Print Record 23 of Set 3 : turochak\n",
      "Print Record 24 of Set 3 : henties bay\n",
      "Print Record 25 of Set 3 : sitka\n",
      "Print Record 26 of Set 3 : arraial do cabo\n",
      "Print Record 27 of Set 3 : antofagasta\n",
      "Print Record 28 of Set 3 : ajdabiya\n",
      "Print Record 29 of Set 3 : moree\n",
      "Print Record 30 of Set 3 : maniitsoq\n",
      "Print Record 31 of Set 3 : troitsko-pechorsk\n",
      "Print Record 32 of Set 3 : tamiahua\n",
      "Print Record 33 of Set 3 : codrington\n",
      "City not found. Skipping...\n",
      "Print Record 34 of Set 3 : evensk\n",
      "Print Record 35 of Set 3 : chicama\n",
      "Print Record 36 of Set 3 : bani\n",
      "Print Record 37 of Set 3 : mombasa\n",
      "Print Record 38 of Set 3 : vila velha\n",
      "Print Record 39 of Set 3 : magdagachi\n",
      "Print Record 40 of Set 3 : lander\n",
      "Print Record 41 of Set 3 : kyzyl-suu\n",
      "Print Record 42 of Set 3 : soyo\n",
      "Print Record 43 of Set 3 : launceston\n",
      "Print Record 44 of Set 3 : isla vista\n",
      "Print Record 45 of Set 3 : kodiak\n",
      "Print Record 46 of Set 3 : paamiut\n",
      "Print Record 47 of Set 3 : cidreira\n",
      "Print Record 48 of Set 3 : tautira\n",
      "Print Record 49 of Set 3 : gaoual\n",
      "Print Record 50 of Set 3 : sao joao da barra\n",
      "Print Record 0 of Set 4 : san ramon\n",
      "City not found. Skipping...\n",
      "Print Record 1 of Set 4 : faya\n",
      "Print Record 2 of Set 4 : olafsvik\n",
      "Print Record 3 of Set 4 : ponta do sol\n",
      "Print Record 4 of Set 4 : chokurdakh\n",
      "Print Record 5 of Set 4 : general roca\n",
      "Print Record 6 of Set 4 : cape town\n",
      "Print Record 7 of Set 4 : narsaq\n",
      "Print Record 8 of Set 4 : zaranj\n",
      "Print Record 9 of Set 4 : kavaratti\n",
      "Print Record 10 of Set 4 : orapa\n",
      "Print Record 11 of Set 4 : san patricio\n",
      "Print Record 12 of Set 4 : caravelas\n",
      "Print Record 13 of Set 4 : byron bay\n",
      "City not found. Skipping...\n",
      "Print Record 14 of Set 4 : mar del plata\n",
      "City not found. Skipping...\n",
      "City not found. Skipping...\n",
      "Print Record 15 of Set 4 : sao felix do xingu\n",
      "Print Record 16 of Set 4 : carlsbad\n",
      "Print Record 17 of Set 4 : victoria\n",
      "Print Record 18 of Set 4 : luziania\n",
      "Print Record 19 of Set 4 : mogadishu\n",
      "Print Record 20 of Set 4 : namibe\n",
      "Print Record 21 of Set 4 : bardiyah\n",
      "Print Record 22 of Set 4 : korla\n",
      "Print Record 23 of Set 4 : ambulu\n",
      "City not found. Skipping...\n",
      "Print Record 24 of Set 4 : bilma\n",
      "Print Record 25 of Set 4 : provideniya\n",
      "Print Record 26 of Set 4 : guerrero negro\n",
      "Print Record 27 of Set 4 : faanui\n",
      "Print Record 28 of Set 4 : pacific grove\n",
      "Print Record 29 of Set 4 : preobrazheniye\n",
      "Print Record 30 of Set 4 : khash\n",
      "Print Record 31 of Set 4 : ibra\n",
      "Print Record 32 of Set 4 : puerto escondido\n",
      "Print Record 33 of Set 4 : salihorsk\n",
      "Print Record 34 of Set 4 : aktau\n",
      "Print Record 35 of Set 4 : wajir\n",
      "Print Record 36 of Set 4 : leningradskiy\n",
      "Print Record 37 of Set 4 : nenjiang\n",
      "Print Record 38 of Set 4 : lorengau\n",
      "Print Record 39 of Set 4 : krasnogorskoye\n",
      "Print Record 40 of Set 4 : egvekinot\n",
      "Print Record 41 of Set 4 : leshan\n",
      "Print Record 42 of Set 4 : bereznik\n",
      "Print Record 43 of Set 4 : kavieng\n",
      "City not found. Skipping...\n",
      "Print Record 44 of Set 4 : raudeberg\n",
      "Print Record 45 of Set 4 : woodward\n",
      "Print Record 46 of Set 4 : shirokiy\n",
      "Print Record 47 of Set 4 : blackfoot\n",
      "Print Record 48 of Set 4 : sukhothai\n",
      "Print Record 49 of Set 4 : cabo san lucas\n",
      "Print Record 50 of Set 4 : jackson\n",
      "Print Record 0 of Set 5 : vardo\n",
      "Print Record 1 of Set 5 : chipinge\n",
      "Print Record 2 of Set 5 : heihe\n",
      "Print Record 3 of Set 5 : mount isa\n",
      "Print Record 4 of Set 5 : deputatskiy\n",
      "City not found. Skipping...\n",
      "Print Record 5 of Set 5 : tabas\n",
      "City not found. Skipping...\n",
      "Print Record 6 of Set 5 : ban nahin\n",
      "Print Record 7 of Set 5 : nizhnevartovsk\n",
      "Print Record 8 of Set 5 : uyskoye\n",
      "Print Record 9 of Set 5 : yulara\n"
     ]
    },
    {
     "name": "stdout",
     "output_type": "stream",
     "text": [
      "Print Record 10 of Set 5 : portland\n",
      "City not found. Skipping...\n",
      "Print Record 11 of Set 5 : tura\n",
      "Print Record 12 of Set 5 : bol\n",
      "Print Record 13 of Set 5 : camacupa\n",
      "Print Record 14 of Set 5 : samana\n",
      "Print Record 15 of Set 5 : porosozero\n",
      "Print Record 16 of Set 5 : kruisfontein\n",
      "City not found. Skipping...\n",
      "Print Record 17 of Set 5 : port elizabeth\n",
      "Print Record 18 of Set 5 : pangnirtung\n",
      "Print Record 19 of Set 5 : adwa\n",
      "Print Record 20 of Set 5 : les cayes\n",
      "Print Record 21 of Set 5 : sharjah\n",
      "Print Record 22 of Set 5 : mednogorsk\n",
      "City not found. Skipping...\n",
      "Print Record 23 of Set 5 : camabatela\n",
      "Print Record 24 of Set 5 : numaligarh\n",
      "Print Record 25 of Set 5 : katsuura\n",
      "Print Record 26 of Set 5 : aguimes\n",
      "Print Record 27 of Set 5 : munirabad\n",
      "Print Record 28 of Set 5 : nago\n",
      "Print Record 29 of Set 5 : amazar\n",
      "Print Record 30 of Set 5 : hvolsvollur\n",
      "Print Record 31 of Set 5 : kwinana\n",
      "City not found. Skipping...\n",
      "Print Record 32 of Set 5 : ostrovnoy\n",
      "Print Record 33 of Set 5 : natuba\n",
      "Print Record 34 of Set 5 : fare\n",
      "Print Record 35 of Set 5 : coahuayana\n",
      "Print Record 36 of Set 5 : atuona\n",
      "Print Record 37 of Set 5 : shimoda\n",
      "Print Record 38 of Set 5 : chabahar\n",
      "City not found. Skipping...\n",
      "Print Record 39 of Set 5 : kaitangata\n",
      "Print Record 40 of Set 5 : ribeira grande\n",
      "Print Record 41 of Set 5 : khatanga\n",
      "Print Record 42 of Set 5 : russell\n",
      "Print Record 43 of Set 5 : severodvinsk\n",
      "Print Record 44 of Set 5 : souillac\n",
      "Print Record 45 of Set 5 : aripuana\n",
      "Print Record 46 of Set 5 : galesong\n",
      "City not found. Skipping...\n",
      "City not found. Skipping...\n",
      "Print Record 47 of Set 5 : havre-saint-pierre\n",
      "Print Record 48 of Set 5 : norman wells\n",
      "Print Record 49 of Set 5 : evanston\n",
      "Print Record 50 of Set 5 : intipuca\n",
      "Print Record 0 of Set 6 : luderitz\n",
      "Print Record 1 of Set 6 : svetlaya\n",
      "Print Record 2 of Set 6 : imbituba\n",
      "Print Record 3 of Set 6 : ako\n",
      "Print Record 4 of Set 6 : tonantins\n",
      "Print Record 5 of Set 6 : namatanai\n",
      "Print Record 6 of Set 6 : grand forks\n",
      "Print Record 7 of Set 6 : burnie\n",
      "Print Record 8 of Set 6 : tuatapere\n",
      "Print Record 9 of Set 6 : lata\n",
      "Print Record 10 of Set 6 : bairiki\n",
      "Print Record 11 of Set 6 : aksu\n",
      "Print Record 12 of Set 6 : margate\n",
      "Print Record 13 of Set 6 : yagodnoye\n",
      "Print Record 14 of Set 6 : perm\n",
      "Print Record 15 of Set 6 : karasjok\n",
      "Print Record 16 of Set 6 : corner brook\n",
      "Print Record 17 of Set 6 : tevriz\n",
      "Print Record 18 of Set 6 : luanda\n",
      "Print Record 19 of Set 6 : shellbrook\n",
      "Print Record 20 of Set 6 : kochevo\n",
      "Print Record 21 of Set 6 : novobirilyussy\n",
      "Print Record 22 of Set 6 : lima\n",
      "Print Record 23 of Set 6 : port blair\n",
      "Print Record 24 of Set 6 : awbari\n",
      "Print Record 25 of Set 6 : carutapera\n",
      "Print Record 26 of Set 6 : flin flon\n",
      "Print Record 27 of Set 6 : almazar\n",
      "Print Record 28 of Set 6 : bodden town\n",
      "City not found. Skipping...\n",
      "Print Record 29 of Set 6 : bjornevatn\n",
      "Print Record 30 of Set 6 : teguise\n",
      "Print Record 31 of Set 6 : asau\n",
      "Print Record 32 of Set 6 : acevedo\n",
      "Print Record 33 of Set 6 : taga\n",
      "Print Record 34 of Set 6 : grand gaube\n",
      "Print Record 35 of Set 6 : illapel\n",
      "Print Record 36 of Set 6 : saldanha\n",
      "Print Record 37 of Set 6 : camopi\n",
      "Print Record 38 of Set 6 : yuancheng\n",
      "Print Record 39 of Set 6 : mattru\n",
      "Print Record 40 of Set 6 : atar\n",
      "Print Record 41 of Set 6 : banda aceh\n",
      "Print Record 42 of Set 6 : bowen\n",
      "Print Record 43 of Set 6 : omboue\n",
      "Print Record 44 of Set 6 : barabinsk\n",
      "City not found. Skipping...\n",
      "Print Record 45 of Set 6 : almaznyy\n",
      "Print Record 46 of Set 6 : grants\n",
      "Print Record 47 of Set 6 : altay\n",
      "Print Record 48 of Set 6 : barbastro\n",
      "Print Record 49 of Set 6 : alekseyevka\n",
      "Print Record 50 of Set 6 : pochutla\n",
      "Print Record 0 of Set 7 : umarkot\n",
      "Print Record 1 of Set 7 : blythe\n",
      "Print Record 2 of Set 7 : adrar\n",
      "Print Record 3 of Set 7 : flinders\n",
      "Print Record 4 of Set 7 : killin\n",
      "Print Record 5 of Set 7 : ambilobe\n",
      "Print Record 6 of Set 7 : bom jesus\n",
      "Print Record 7 of Set 7 : maymyo\n",
      "Print Record 8 of Set 7 : el alto\n",
      "City not found. Skipping...\n",
      "Print Record 9 of Set 7 : bien hoa\n",
      "Print Record 10 of Set 7 : beberibe\n",
      "Print Record 11 of Set 7 : saint-augustin\n",
      "Print Record 12 of Set 7 : monduli\n",
      "Print Record 13 of Set 7 : kunda\n",
      "Print Record 14 of Set 7 : naliya\n",
      "Print Record 15 of Set 7 : havoysund\n",
      "Print Record 16 of Set 7 : lompoc\n",
      "Print Record 17 of Set 7 : vandavasi\n",
      "Print Record 18 of Set 7 : guayaramerin\n",
      "Print Record 19 of Set 7 : ust-omchug\n",
      "Print Record 20 of Set 7 : lavrentiya\n",
      "Print Record 21 of Set 7 : resistencia\n",
      "Print Record 22 of Set 7 : agucadoura\n",
      "City not found. Skipping...\n",
      "Print Record 23 of Set 7 : makakilo city\n",
      "Print Record 24 of Set 7 : plainfield\n",
      "Print Record 25 of Set 7 : howard springs\n",
      "City not found. Skipping...\n",
      "Print Record 26 of Set 7 : sinazongwe\n",
      "Print Record 27 of Set 7 : saint anthony\n",
      "Print Record 28 of Set 7 : yahotyn\n",
      "Print Record 29 of Set 7 : celestun\n",
      "City not found. Skipping...\n",
      "Print Record 30 of Set 7 : aburi\n",
      "Print Record 31 of Set 7 : cayenne\n",
      "Print Record 32 of Set 7 : port lincoln\n",
      "Print Record 33 of Set 7 : itaituba\n",
      "Print Record 34 of Set 7 : kahului\n",
      "Print Record 35 of Set 7 : gamba\n",
      "Print Record 36 of Set 7 : lubao\n",
      "Print Record 37 of Set 7 : duldurga\n",
      "Print Record 38 of Set 7 : biak\n",
      "Print Record 39 of Set 7 : hovd\n",
      "Print Record 40 of Set 7 : toledo\n",
      "Print Record 41 of Set 7 : humaita\n",
      "Print Record 42 of Set 7 : alakurtti\n",
      "Print Record 43 of Set 7 : torbay\n",
      "Print Record 44 of Set 7 : pevek\n",
      "Print Record 45 of Set 7 : susice\n",
      "Print Record 46 of Set 7 : nantucket\n",
      "Print Record 47 of Set 7 : whittlesea\n",
      "Print Record 48 of Set 7 : tessalit\n",
      "Print Record 49 of Set 7 : menongue\n",
      "Print Record 50 of Set 7 : lagos\n",
      "Print Record 0 of Set 8 : talnakh\n",
      "Print Record 1 of Set 8 : znamenskoye\n",
      "Print Record 2 of Set 8 : sabzevar\n",
      "Print Record 3 of Set 8 : ilulissat\n",
      "Print Record 4 of Set 8 : zhuhai\n",
      "Print Record 5 of Set 8 : swift current\n",
      "Print Record 6 of Set 8 : sibu\n",
      "Print Record 7 of Set 8 : naze\n",
      "Print Record 8 of Set 8 : mahibadhoo\n",
      "Print Record 9 of Set 8 : zhangjiakou\n",
      "Print Record 10 of Set 8 : qasigiannguit\n",
      "City not found. Skipping...\n",
      "Print Record 11 of Set 8 : troitskoye\n",
      "Print Record 12 of Set 8 : bikaner\n",
      "Print Record 13 of Set 8 : sasovo\n",
      "Print Record 14 of Set 8 : mitsamiouli\n",
      "Print Record 15 of Set 8 : kyabe\n",
      "Print Record 16 of Set 8 : sorong\n",
      "Print Record 17 of Set 8 : fortuna\n",
      "Print Record 18 of Set 8 : bereda\n",
      "Print Record 19 of Set 8 : chapada dos guimaraes\n",
      "Print Record 20 of Set 8 : kailua\n",
      "Print Record 21 of Set 8 : liverpool\n",
      "Print Record 22 of Set 8 : tefe\n",
      "Print Record 23 of Set 8 : pisco\n",
      "Print Record 24 of Set 8 : akhmim\n",
      "Print Record 25 of Set 8 : san quintin\n",
      "Print Record 26 of Set 8 : lovozero\n",
      "Print Record 27 of Set 8 : lowestoft\n",
      "Print Record 28 of Set 8 : sindor\n",
      "City not found. Skipping...\n",
      "Print Record 29 of Set 8 : ibotirama\n",
      "Print Record 30 of Set 8 : jalu\n",
      "Print Record 31 of Set 8 : clyde river\n",
      "Print Record 32 of Set 8 : nsanje\n",
      "Print Record 33 of Set 8 : sandwick\n",
      "Print Record 34 of Set 8 : bulaevo\n",
      "Print Record 35 of Set 8 : gao\n",
      "Print Record 36 of Set 8 : villamontes\n",
      "Print Record 37 of Set 8 : half moon bay\n",
      "Print Record 38 of Set 8 : barra do garcas\n",
      "Print Record 39 of Set 8 : baraki barak\n",
      "Print Record 40 of Set 8 : trinidad\n",
      "Print Record 41 of Set 8 : ndioum\n",
      "Print Record 42 of Set 8 : ratholo\n",
      "City not found. Skipping...\n",
      "Print Record 43 of Set 8 : kirakira\n",
      "Print Record 44 of Set 8 : homer\n",
      "Print Record 45 of Set 8 : singaparna\n",
      "Print Record 46 of Set 8 : popondetta\n",
      "Print Record 47 of Set 8 : sierpc\n",
      "City not found. Skipping...\n",
      "Print Record 48 of Set 8 : westport\n",
      "Print Record 49 of Set 8 : nioki\n",
      "Print Record 50 of Set 8 : vrangel\n",
      "Print Record 0 of Set 9 : arman\n",
      "Print Record 1 of Set 9 : padang\n",
      "Print Record 2 of Set 9 : waling\n",
      "Print Record 3 of Set 9 : alugan\n",
      "Print Record 4 of Set 9 : garbolovo\n",
      "Print Record 5 of Set 9 : chippewa falls\n",
      "Print Record 6 of Set 9 : richards bay\n",
      "Print Record 7 of Set 9 : salisbury\n",
      "City not found. Skipping...\n",
      "Print Record 8 of Set 9 : salalah\n",
      "Print Record 9 of Set 9 : eau claire\n",
      "Print Record 10 of Set 9 : anamur\n",
      "City not found. Skipping...\n",
      "City not found. Skipping...\n",
      "Print Record 11 of Set 9 : plettenberg bay\n",
      "Print Record 12 of Set 9 : vila franca do campo\n",
      "Print Record 13 of Set 9 : dunedin\n",
      "Print Record 14 of Set 9 : encamp\n",
      "City not found. Skipping...\n",
      "Print Record 15 of Set 9 : barcelos\n",
      "Print Record 16 of Set 9 : coquimbo\n",
      "Print Record 17 of Set 9 : gainesville\n"
     ]
    },
    {
     "name": "stdout",
     "output_type": "stream",
     "text": [
      "Print Record 18 of Set 9 : tenenkou\n",
      "Print Record 19 of Set 9 : cavalcante\n",
      "Print Record 20 of Set 9 : uige\n",
      "Print Record 21 of Set 9 : chara\n",
      "Print Record 22 of Set 9 : beyneu\n",
      "Print Record 23 of Set 9 : tena\n",
      "City not found. Skipping...\n",
      "Print Record 24 of Set 9 : hervey bay\n",
      "Print Record 25 of Set 9 : marsala\n",
      "Print Record 26 of Set 9 : chililabombwe\n",
      "Print Record 27 of Set 9 : aksarka\n",
      "Print Record 28 of Set 9 : fonte boa\n",
      "Print Record 29 of Set 9 : silopi\n",
      "Print Record 30 of Set 9 : ulladulla\n",
      "City not found. Skipping...\n",
      "Print Record 31 of Set 9 : nishihara\n",
      "Print Record 32 of Set 9 : broken hill\n",
      "Print Record 33 of Set 9 : punta alta\n",
      "Print Record 34 of Set 9 : marsa matruh\n",
      "Print Record 35 of Set 9 : sarti\n",
      "Print Record 36 of Set 9 : goderich\n",
      "Print Record 37 of Set 9 : kampot\n",
      "Print Record 38 of Set 9 : bonthe\n",
      "Print Record 39 of Set 9 : kaniama\n",
      "City not found. Skipping...\n",
      "Print Record 40 of Set 9 : eenhana\n",
      "Print Record 41 of Set 9 : longyearbyen\n",
      "City not found. Skipping...\n",
      "City not found. Skipping...\n",
      "Print Record 42 of Set 9 : biscarrosse\n",
      "Print Record 43 of Set 9 : la rioja\n",
      "Print Record 44 of Set 9 : belyy yar\n",
      "Print Record 45 of Set 9 : novikovo\n",
      "Print Record 46 of Set 9 : northam\n",
      "Print Record 47 of Set 9 : rogovatoye\n",
      "Print Record 48 of Set 9 : meulaboh\n",
      "Print Record 49 of Set 9 : guarapari\n",
      "Print Record 50 of Set 9 : verkhnevilyuysk\n",
      "Print Record 0 of Set 10 : mae sot\n",
      "Print Record 1 of Set 10 : murray bridge\n",
      "Print Record 2 of Set 10 : vvedenskoye\n",
      "Print Record 3 of Set 10 : amuntai\n",
      "Print Record 4 of Set 10 : diamantino\n",
      "Print Record 5 of Set 10 : maldonado\n",
      "City not found. Skipping...\n",
      "Print Record 6 of Set 10 : te anau\n",
      "Print Record 7 of Set 10 : smithers\n",
      "Print Record 8 of Set 10 : damietta\n",
      "Print Record 9 of Set 10 : emba\n",
      "Print Record 10 of Set 10 : muros\n",
      "Print Record 11 of Set 10 : yangambi\n",
      "Print Record 12 of Set 10 : fuyang\n",
      "Print Record 13 of Set 10 : samarai\n",
      "Print Record 14 of Set 10 : rawson\n",
      "Print Record 15 of Set 10 : shimorskoye\n",
      "City not found. Skipping...\n",
      "Print Record 16 of Set 10 : jiuquan\n",
      "Print Record 17 of Set 10 : kungurtug\n",
      "Print Record 18 of Set 10 : buala\n",
      "Print Record 19 of Set 10 : scarborough\n",
      "Print Record 20 of Set 10 : macas\n",
      "Print Record 21 of Set 10 : liwale\n",
      "Print Record 22 of Set 10 : nicoya\n",
      "Print Record 23 of Set 10 : batagay-alyta\n",
      "Print Record 24 of Set 10 : srednekolymsk\n",
      "Print Record 25 of Set 10 : camacha\n",
      "Print Record 26 of Set 10 : abu dhabi\n",
      "Print Record 27 of Set 10 : iwanai\n",
      "Print Record 28 of Set 10 : pyapon\n",
      "Print Record 29 of Set 10 : aberdeen\n",
      "Print Record 30 of Set 10 : kushmurun\n",
      "Print Record 31 of Set 10 : puchezh\n",
      "Print Record 32 of Set 10 : luang prabang\n",
      "Print Record 33 of Set 10 : kieta\n",
      "Print Record 34 of Set 10 : port hardy\n",
      "Print Record 35 of Set 10 : carballo\n",
      "Print Record 36 of Set 10 : totskoye\n",
      "City not found. Skipping...\n",
      "Print Record 37 of Set 10 : gushikawa\n",
      "Print Record 38 of Set 10 : richmond\n",
      "Print Record 39 of Set 10 : port hedland\n",
      "Print Record 40 of Set 10 : mao\n",
      "Print Record 41 of Set 10 : nurobod\n",
      "Print Record 42 of Set 10 : lipin bor\n",
      "Print Record 43 of Set 10 : tocopilla\n",
      "Print Record 44 of Set 10 : kunashak\n",
      "Print Record 45 of Set 10 : gavle\n",
      "City not found. Skipping...\n",
      "Print Record 46 of Set 10 : berlevag\n",
      "Print Record 47 of Set 10 : kumphawapi\n",
      "Print Record 48 of Set 10 : pires do rio\n",
      "Print Record 49 of Set 10 : nalut\n",
      "City not found. Skipping...\n",
      "Print Record 50 of Set 10 : kalianget\n",
      "Print Record 0 of Set 11 : khorixas\n",
      "Print Record 1 of Set 11 : hobyo\n",
      "Print Record 2 of Set 11 : nuuk\n",
      "City not found. Skipping...\n",
      "Print Record 3 of Set 11 : machico\n",
      "Print Record 4 of Set 11 : quatre cocos\n",
      "Print Record 5 of Set 11 : kushiro\n",
      "Print Record 6 of Set 11 : colomi\n",
      "City not found. Skipping...\n",
      "Print Record 7 of Set 11 : aban\n",
      "Print Record 8 of Set 11 : russellville\n",
      "Print Record 9 of Set 11 : boz\n",
      "Print Record 10 of Set 11 : magadan\n",
      "Print Record 11 of Set 11 : prince rupert\n",
      "Print Record 12 of Set 11 : nome\n",
      "Print Record 13 of Set 11 : okha\n",
      "Print Record 14 of Set 11 : worthing\n",
      "Print Record 15 of Set 11 : vanimo\n",
      "Print Record 16 of Set 11 : ossora\n",
      "Print Record 17 of Set 11 : los llanos de aridane\n",
      "Print Record 18 of Set 11 : yerbogachen\n",
      "Print Record 19 of Set 11 : botshabelo\n",
      "Print Record 20 of Set 11 : khani\n",
      "Print Record 21 of Set 11 : santiago\n",
      "Print Record 22 of Set 11 : turukhansk\n",
      "Print Record 23 of Set 11 : xushan\n",
      "Print Record 24 of Set 11 : ternate\n",
      "Print Record 25 of Set 11 : monrovia\n",
      "Print Record 26 of Set 11 : along\n",
      "Print Record 27 of Set 11 : kourou\n",
      "Print Record 28 of Set 11 : okoneshnikovo\n",
      "Print Record 29 of Set 11 : bathsheba\n",
      "Print Record 30 of Set 11 : sinnamary\n",
      "-----------------------------\n",
      "Data Retrieval Complete\n",
      "-----------------------------\n"
     ]
    }
   ],
   "source": [
    "# Starting URL for Weather Map API Call\n",
    "url = \"http://api.openweathermap.org/data/2.5/weather?\"\n",
    "units = \"Metric\"\n",
    "query_url = f\"{url}appid={weather_api_key}&units={units}&q=\"\n",
    "\n",
    "# Set up info each city to call\n",
    "city_name = []\n",
    "country_name = []\n",
    "temp = []\n",
    "cloudiness = []\n",
    "humidity = []\n",
    "lat = []\n",
    "lng = []\n",
    "wind_speed = []\n",
    "date = []\n",
    "\n",
    "index_counter = 0\n",
    "set_counter = 1\n",
    "\n",
    "# For each city name in cities, perform a request for data on each\n",
    "for city in cities:\n",
    "    try:   \n",
    "        response = requests.get(query_url + city).json()\n",
    "        city_name.append(response[\"name\"])\n",
    "        country_name.append(response[\"sys\"][\"country\"])\n",
    "        temp.append(response['main']['temp_max'])\n",
    "        cloudiness.append(response[\"clouds\"][\"all\"])\n",
    "        humidity.append(response[\"main\"][\"humidity\"])\n",
    "        lat.append(response[\"coord\"][\"lat\"])\n",
    "        lng.append(response[\"coord\"][\"lon\"])\n",
    "        wind_speed.append(response[\"wind\"][\"speed\"])\n",
    "        date.append(response[\"dt\"])\n",
    "        if index_counter > 49:\n",
    "            index_counter = 0\n",
    "            set_counter = set_counter + 1\n",
    "            \n",
    "        else:\n",
    "            index_counter = index_counter + 1\n",
    "            \n",
    "        print(f\"Print Record {index_counter} of Set {set_counter} : {city}\")\n",
    "        \n",
    "    except:\n",
    "        print(\"City not found. Skipping...\")\n",
    "\n",
    "print(\"-----------------------------\")\n",
    "print(\"Data Retrieval Complete\")\n",
    "print(\"-----------------------------\")"
   ]
  },
  {
   "cell_type": "markdown",
   "metadata": {},
   "source": [
    "### Convert Raw Data to DataFrame\n",
    "* Export the city data into a .csv.\n",
    "* Display the DataFrame"
   ]
  },
  {
   "cell_type": "code",
   "execution_count": 4,
   "metadata": {},
   "outputs": [
    {
     "data": {
      "text/html": [
       "<div>\n",
       "<style scoped>\n",
       "    .dataframe tbody tr th:only-of-type {\n",
       "        vertical-align: middle;\n",
       "    }\n",
       "\n",
       "    .dataframe tbody tr th {\n",
       "        vertical-align: top;\n",
       "    }\n",
       "\n",
       "    .dataframe thead th {\n",
       "        text-align: right;\n",
       "    }\n",
       "</style>\n",
       "<table border=\"1\" class=\"dataframe\">\n",
       "  <thead>\n",
       "    <tr style=\"text-align: right;\">\n",
       "      <th></th>\n",
       "      <th>City</th>\n",
       "      <th>Temperature</th>\n",
       "      <th>Country</th>\n",
       "      <th>Cloudiness</th>\n",
       "      <th>Humidity</th>\n",
       "      <th>Latitude</th>\n",
       "      <th>Longitude</th>\n",
       "      <th>Wind Speed</th>\n",
       "      <th>Date</th>\n",
       "    </tr>\n",
       "  </thead>\n",
       "  <tbody>\n",
       "    <tr>\n",
       "      <th>0</th>\n",
       "      <td>Ushuaia</td>\n",
       "      <td>2.00</td>\n",
       "      <td>AR</td>\n",
       "      <td>20</td>\n",
       "      <td>80</td>\n",
       "      <td>-54.80</td>\n",
       "      <td>-68.30</td>\n",
       "      <td>9.80</td>\n",
       "      <td>1593223349</td>\n",
       "    </tr>\n",
       "    <tr>\n",
       "      <th>1</th>\n",
       "      <td>Bethel</td>\n",
       "      <td>21.11</td>\n",
       "      <td>US</td>\n",
       "      <td>1</td>\n",
       "      <td>64</td>\n",
       "      <td>41.37</td>\n",
       "      <td>-73.41</td>\n",
       "      <td>1.50</td>\n",
       "      <td>1593223349</td>\n",
       "    </tr>\n",
       "    <tr>\n",
       "      <th>2</th>\n",
       "      <td>George Town</td>\n",
       "      <td>29.00</td>\n",
       "      <td>MY</td>\n",
       "      <td>20</td>\n",
       "      <td>88</td>\n",
       "      <td>5.41</td>\n",
       "      <td>100.34</td>\n",
       "      <td>1.50</td>\n",
       "      <td>1593223349</td>\n",
       "    </tr>\n",
       "    <tr>\n",
       "      <th>3</th>\n",
       "      <td>Hermanus</td>\n",
       "      <td>12.22</td>\n",
       "      <td>ZA</td>\n",
       "      <td>43</td>\n",
       "      <td>87</td>\n",
       "      <td>-34.42</td>\n",
       "      <td>19.23</td>\n",
       "      <td>7.15</td>\n",
       "      <td>1593223349</td>\n",
       "    </tr>\n",
       "    <tr>\n",
       "      <th>4</th>\n",
       "      <td>Albany</td>\n",
       "      <td>22.22</td>\n",
       "      <td>US</td>\n",
       "      <td>0</td>\n",
       "      <td>84</td>\n",
       "      <td>42.60</td>\n",
       "      <td>-73.97</td>\n",
       "      <td>1.75</td>\n",
       "      <td>1593223151</td>\n",
       "    </tr>\n",
       "  </tbody>\n",
       "</table>\n",
       "</div>"
      ],
      "text/plain": [
       "          City  Temperature Country  Cloudiness  Humidity  Latitude  \\\n",
       "0      Ushuaia         2.00      AR          20        80    -54.80   \n",
       "1       Bethel        21.11      US           1        64     41.37   \n",
       "2  George Town        29.00      MY          20        88      5.41   \n",
       "3     Hermanus        12.22      ZA          43        87    -34.42   \n",
       "4       Albany        22.22      US           0        84     42.60   \n",
       "\n",
       "   Longitude  Wind Speed        Date  \n",
       "0     -68.30        9.80  1593223349  \n",
       "1     -73.41        1.50  1593223349  \n",
       "2     100.34        1.50  1593223349  \n",
       "3      19.23        7.15  1593223349  \n",
       "4     -73.97        1.75  1593223151  "
      ]
     },
     "execution_count": 4,
     "metadata": {},
     "output_type": "execute_result"
    }
   ],
   "source": [
    "city_weather_data = pd.DataFrame({\"City\": city_name,\n",
    "                        \"Temperature\": temp,\n",
    "                        \"Country\": country_name,\n",
    "                        \"Temperature\": temp,\n",
    "                        \"Cloudiness\": cloudiness,\n",
    "                        \"Humidity\": humidity,\n",
    "                        \"Latitude\": lat,\n",
    "                        \"Longitude\": lng,                                      \n",
    "                        \"Wind Speed\": wind_speed,\n",
    "                        \"Date\": date})\n",
    "\n",
    "city_weather_data.head()"
   ]
  },
  {
   "cell_type": "markdown",
   "metadata": {},
   "source": [
    "## Inspect the data and remove the cities where the humidity > 100%.\n",
    "There are no cities that have humidity > 100%."
   ]
  },
  {
   "cell_type": "code",
   "execution_count": 5,
   "metadata": {},
   "outputs": [
    {
     "data": {
      "text/plain": [
       "0    False\n",
       "1    False\n",
       "2    False\n",
       "3    False\n",
       "4    False\n",
       "Name: Humidity, dtype: bool"
      ]
     },
     "execution_count": 5,
     "metadata": {},
     "output_type": "execute_result"
    }
   ],
   "source": [
    "# Humidity check > 100%\n",
    "humidity_check = city_weather_data.Humidity\n",
    "values = humidity_check >100\n",
    "values.head()"
   ]
  },
  {
   "cell_type": "code",
   "execution_count": 6,
   "metadata": {},
   "outputs": [],
   "source": [
    "# Export the City_Data into a csv\n",
    "city_weather_data.to_csv(\"output_data/cities.csv\", index = False)"
   ]
  },
  {
   "cell_type": "code",
   "execution_count": 7,
   "metadata": {},
   "outputs": [
    {
     "data": {
      "text/plain": [
       "'06/26/2020'"
      ]
     },
     "execution_count": 7,
     "metadata": {},
     "output_type": "execute_result"
    }
   ],
   "source": [
    "#Date conversion\n",
    "date =datetime.datetime.fromtimestamp(\n",
    "        int(city_weather_data['Date'][0])\n",
    "    ).strftime('%m/%d/%Y')\n",
    "date"
   ]
  },
  {
   "cell_type": "markdown",
   "metadata": {},
   "source": [
    "## Plotting the Data\n",
    "* Use proper labeling of the plots using plot titles (including date of analysis) and axes labels.\n",
    "* Save the plotted figures as .pngs."
   ]
  },
  {
   "cell_type": "markdown",
   "metadata": {},
   "source": [
    "## Latitude vs. Temperature Plot"
   ]
  },
  {
   "cell_type": "code",
   "execution_count": 8,
   "metadata": {
    "scrolled": true
   },
   "outputs": [
    {
     "data": {
      "image/png": "[encoded data removed]",
      "text/plain": [
       "<Figure size 432x288 with 1 Axes>"
      ]
     },
     "metadata": {
      "needs_background": "light"
     },
     "output_type": "display_data"
    }
   ],
   "source": [
    "plt.scatter(city_weather_data[\"Latitude\"], city_weather_data[\"Temperature\"], marker=\"o\")\n",
    "plt.title (\"Latitude vs Temperature ({})\".format(date))\n",
    "plt.ylabel(\"Temperature(Celsius)\")\n",
    "plt.xlabel(\"Latitude\")\n",
    "plt.grid(True)\n",
    "\n",
    "# Save the figure\n",
    "plt.savefig(\"Images/Latitude vs Temperature\")"
   ]
  },
  {
   "cell_type": "markdown",
   "metadata": {},
   "source": [
    "#### The highest temperature, ~45 celsius, is found at 40 latitude."
   ]
  },
  {
   "cell_type": "markdown",
   "metadata": {},
   "source": [
    "## Latitude vs. Humidity Plot"
   ]
  },
  {
   "cell_type": "code",
   "execution_count": 9,
   "metadata": {},
   "outputs": [
    {
     "data": {
      "image/png": "[encoded data removed]",
      "text/plain": [
       "<Figure size 432x288 with 1 Axes>"
      ]
     },
     "metadata": {
      "needs_background": "light"
     },
     "output_type": "display_data"
    }
   ],
   "source": [
    "plt.scatter(city_weather_data[\"Latitude\"], city_weather_data[\"Humidity\"], marker=\"o\")\n",
    "plt.title (\"Latitude vs Humidity ({})\".format(date))\n",
    "plt.ylabel(\"Humidity\")\n",
    "plt.xlabel(\"Latitude\")\n",
    "plt.grid(True)\n",
    "\n",
    "#Save the figure\n",
    "plt.savefig(\"Images/Latitude vs Humidity\")"
   ]
  },
  {
   "cell_type": "markdown",
   "metadata": {},
   "source": [
    "Humidity is more distributed towards the Northern Hemisphere."
   ]
  },
  {
   "cell_type": "markdown",
   "metadata": {},
   "source": [
    "## Latitude vs. Cloudiness Plot"
   ]
  },
  {
   "cell_type": "code",
   "execution_count": 10,
   "metadata": {},
   "outputs": [
    {
     "data": {
      "image/png": "[encoded data removed]",
      "text/plain": [
       "<Figure size 432x288 with 1 Axes>"
      ]
     },
     "metadata": {
      "needs_background": "light"
     },
     "output_type": "display_data"
    }
   ],
   "source": [
    "plt.scatter(city_weather_data[\"Latitude\"], city_weather_data[\"Cloudiness\"], marker=\"o\")\n",
    "plt.title (\"Latitude vs Cloudiness ({})\".format(date))\n",
    "plt.ylabel(\"Cloudiness\")\n",
    "plt.xlabel(\"Latitude\")\n",
    "plt.grid(True)\n",
    "\n",
    "#Save the figure\n",
    "plt.savefig(\"Images/Latitude vs Cloudiness\")"
   ]
  },
  {
   "cell_type": "markdown",
   "metadata": {},
   "source": [
    "Cloudiness is evenly distributed across the latitude."
   ]
  },
  {
   "cell_type": "markdown",
   "metadata": {},
   "source": [
    "## Latitude vs. Wind Speed Plot"
   ]
  },
  {
   "cell_type": "code",
   "execution_count": 11,
   "metadata": {},
   "outputs": [
    {
     "data": {
      "image/png": "[encoded data removed]",
      "text/plain": [
       "<Figure size 432x288 with 1 Axes>"
      ]
     },
     "metadata": {
      "needs_background": "light"
     },
     "output_type": "display_data"
    }
   ],
   "source": [
    "plt.scatter(city_weather_data[\"Latitude\"], city_weather_data[\"Wind Speed\"], marker=\"o\")\n",
    "plt.title (\"Latitude vs Wind Speed ({})\".format(date))\n",
    "plt.ylabel(\"Wind Speed\")\n",
    "plt.xlabel(\"Latitude\")\n",
    "plt.grid(True)\n",
    "\n",
    "#Save the figure\n",
    "plt.savefig(\"Images/Latitude vs Wind Speed\")"
   ]
  },
  {
   "cell_type": "markdown",
   "metadata": {},
   "source": [
    "Wind speed is primarily concentrated between 0-8 mph across the latitude."
   ]
  },
  {
   "cell_type": "markdown",
   "metadata": {},
   "source": [
    "## Linear Regression"
   ]
  },
  {
   "cell_type": "code",
   "execution_count": 12,
   "metadata": {},
   "outputs": [
    {
     "data": {
      "text/html": [
       "<div>\n",
       "<style scoped>\n",
       "    .dataframe tbody tr th:only-of-type {\n",
       "        vertical-align: middle;\n",
       "    }\n",
       "\n",
       "    .dataframe tbody tr th {\n",
       "        vertical-align: top;\n",
       "    }\n",
       "\n",
       "    .dataframe thead th {\n",
       "        text-align: right;\n",
       "    }\n",
       "</style>\n",
       "<table border=\"1\" class=\"dataframe\">\n",
       "  <thead>\n",
       "    <tr style=\"text-align: right;\">\n",
       "      <th></th>\n",
       "      <th>City</th>\n",
       "      <th>Temperature</th>\n",
       "      <th>Country</th>\n",
       "      <th>Cloudiness</th>\n",
       "      <th>Humidity</th>\n",
       "      <th>Latitude</th>\n",
       "      <th>Longitude</th>\n",
       "      <th>Wind Speed</th>\n",
       "      <th>Date</th>\n",
       "    </tr>\n",
       "  </thead>\n",
       "  <tbody>\n",
       "    <tr>\n",
       "      <th>1</th>\n",
       "      <td>Bethel</td>\n",
       "      <td>21.11</td>\n",
       "      <td>US</td>\n",
       "      <td>1</td>\n",
       "      <td>64</td>\n",
       "      <td>41.37</td>\n",
       "      <td>-73.41</td>\n",
       "      <td>1.50</td>\n",
       "      <td>1593223349</td>\n",
       "    </tr>\n",
       "    <tr>\n",
       "      <th>2</th>\n",
       "      <td>George Town</td>\n",
       "      <td>29.00</td>\n",
       "      <td>MY</td>\n",
       "      <td>20</td>\n",
       "      <td>88</td>\n",
       "      <td>5.41</td>\n",
       "      <td>100.34</td>\n",
       "      <td>1.50</td>\n",
       "      <td>1593223349</td>\n",
       "    </tr>\n",
       "    <tr>\n",
       "      <th>4</th>\n",
       "      <td>Albany</td>\n",
       "      <td>22.22</td>\n",
       "      <td>US</td>\n",
       "      <td>0</td>\n",
       "      <td>84</td>\n",
       "      <td>42.60</td>\n",
       "      <td>-73.97</td>\n",
       "      <td>1.75</td>\n",
       "      <td>1593223151</td>\n",
       "    </tr>\n",
       "    <tr>\n",
       "      <th>6</th>\n",
       "      <td>Barrow</td>\n",
       "      <td>4.00</td>\n",
       "      <td>US</td>\n",
       "      <td>90</td>\n",
       "      <td>93</td>\n",
       "      <td>71.29</td>\n",
       "      <td>-156.79</td>\n",
       "      <td>3.60</td>\n",
       "      <td>1593223349</td>\n",
       "    </tr>\n",
       "    <tr>\n",
       "      <th>10</th>\n",
       "      <td>Jamestown</td>\n",
       "      <td>19.00</td>\n",
       "      <td>US</td>\n",
       "      <td>1</td>\n",
       "      <td>63</td>\n",
       "      <td>42.10</td>\n",
       "      <td>-79.24</td>\n",
       "      <td>2.10</td>\n",
       "      <td>1593223350</td>\n",
       "    </tr>\n",
       "  </tbody>\n",
       "</table>\n",
       "</div>"
      ],
      "text/plain": [
       "           City  Temperature Country  Cloudiness  Humidity  Latitude  \\\n",
       "1        Bethel        21.11      US           1        64     41.37   \n",
       "2   George Town        29.00      MY          20        88      5.41   \n",
       "4        Albany        22.22      US           0        84     42.60   \n",
       "6        Barrow         4.00      US          90        93     71.29   \n",
       "10    Jamestown        19.00      US           1        63     42.10   \n",
       "\n",
       "    Longitude  Wind Speed        Date  \n",
       "1      -73.41        1.50  1593223349  \n",
       "2      100.34        1.50  1593223349  \n",
       "4      -73.97        1.75  1593223151  \n",
       "6     -156.79        3.60  1593223349  \n",
       "10     -79.24        2.10  1593223350  "
      ]
     },
     "execution_count": 12,
     "metadata": {},
     "output_type": "execute_result"
    }
   ],
   "source": [
    "# Create Northern and Southern Hemisphere DataFrames\n",
    "# Northern Hemisphere, Lat>0\n",
    "northern_hem = city_weather_data.loc[city_weather_data[\"Latitude\"]>0]\n",
    "northern_hem.head() "
   ]
  },
  {
   "cell_type": "code",
   "execution_count": 13,
   "metadata": {},
   "outputs": [
    {
     "data": {
      "text/html": [
       "<div>\n",
       "<style scoped>\n",
       "    .dataframe tbody tr th:only-of-type {\n",
       "        vertical-align: middle;\n",
       "    }\n",
       "\n",
       "    .dataframe tbody tr th {\n",
       "        vertical-align: top;\n",
       "    }\n",
       "\n",
       "    .dataframe thead th {\n",
       "        text-align: right;\n",
       "    }\n",
       "</style>\n",
       "<table border=\"1\" class=\"dataframe\">\n",
       "  <thead>\n",
       "    <tr style=\"text-align: right;\">\n",
       "      <th></th>\n",
       "      <th>City</th>\n",
       "      <th>Temperature</th>\n",
       "      <th>Country</th>\n",
       "      <th>Cloudiness</th>\n",
       "      <th>Humidity</th>\n",
       "      <th>Latitude</th>\n",
       "      <th>Longitude</th>\n",
       "      <th>Wind Speed</th>\n",
       "      <th>Date</th>\n",
       "    </tr>\n",
       "  </thead>\n",
       "  <tbody>\n",
       "    <tr>\n",
       "      <th>0</th>\n",
       "      <td>Ushuaia</td>\n",
       "      <td>2.00</td>\n",
       "      <td>AR</td>\n",
       "      <td>20</td>\n",
       "      <td>80</td>\n",
       "      <td>-54.80</td>\n",
       "      <td>-68.30</td>\n",
       "      <td>9.80</td>\n",
       "      <td>1593223349</td>\n",
       "    </tr>\n",
       "    <tr>\n",
       "      <th>3</th>\n",
       "      <td>Hermanus</td>\n",
       "      <td>12.22</td>\n",
       "      <td>ZA</td>\n",
       "      <td>43</td>\n",
       "      <td>87</td>\n",
       "      <td>-34.42</td>\n",
       "      <td>19.23</td>\n",
       "      <td>7.15</td>\n",
       "      <td>1593223349</td>\n",
       "    </tr>\n",
       "    <tr>\n",
       "      <th>5</th>\n",
       "      <td>Barranca</td>\n",
       "      <td>15.57</td>\n",
       "      <td>PE</td>\n",
       "      <td>36</td>\n",
       "      <td>91</td>\n",
       "      <td>-10.75</td>\n",
       "      <td>-77.77</td>\n",
       "      <td>2.98</td>\n",
       "      <td>1593223274</td>\n",
       "    </tr>\n",
       "    <tr>\n",
       "      <th>7</th>\n",
       "      <td>Chui</td>\n",
       "      <td>7.51</td>\n",
       "      <td>UY</td>\n",
       "      <td>100</td>\n",
       "      <td>70</td>\n",
       "      <td>-33.70</td>\n",
       "      <td>-53.46</td>\n",
       "      <td>3.12</td>\n",
       "      <td>1593223125</td>\n",
       "    </tr>\n",
       "    <tr>\n",
       "      <th>8</th>\n",
       "      <td>Mataura</td>\n",
       "      <td>9.58</td>\n",
       "      <td>NZ</td>\n",
       "      <td>56</td>\n",
       "      <td>64</td>\n",
       "      <td>-46.19</td>\n",
       "      <td>168.86</td>\n",
       "      <td>1.11</td>\n",
       "      <td>1593223349</td>\n",
       "    </tr>\n",
       "  </tbody>\n",
       "</table>\n",
       "</div>"
      ],
      "text/plain": [
       "       City  Temperature Country  Cloudiness  Humidity  Latitude  Longitude  \\\n",
       "0   Ushuaia         2.00      AR          20        80    -54.80     -68.30   \n",
       "3  Hermanus        12.22      ZA          43        87    -34.42      19.23   \n",
       "5  Barranca        15.57      PE          36        91    -10.75     -77.77   \n",
       "7      Chui         7.51      UY         100        70    -33.70     -53.46   \n",
       "8   Mataura         9.58      NZ          56        64    -46.19     168.86   \n",
       "\n",
       "   Wind Speed        Date  \n",
       "0        9.80  1593223349  \n",
       "3        7.15  1593223349  \n",
       "5        2.98  1593223274  \n",
       "7        3.12  1593223125  \n",
       "8        1.11  1593223349  "
      ]
     },
     "execution_count": 13,
     "metadata": {},
     "output_type": "execute_result"
    }
   ],
   "source": [
    "# Southern Hemisphere, Lat<0\n",
    "southern_hem = city_weather_data.loc[city_weather_data[\"Latitude\"]<0]\n",
    "southern_hem.head()"
   ]
  },
  {
   "cell_type": "markdown",
   "metadata": {},
   "source": [
    "####  Northern Hemisphere - Max Temp vs. Latitude Linear Regression\n"
   ]
  },
  {
   "cell_type": "code",
   "execution_count": 14,
   "metadata": {},
   "outputs": [
    {
     "name": "stdout",
     "output_type": "stream",
     "text": [
      "Value of R = 0.499\n"
     ]
    },
    {
     "data": {
      "image/png": "[encoded data removed]",
      "text/plain": [
       "<Figure size 432x288 with 1 Axes>"
      ]
     },
     "metadata": {
      "needs_background": "light"
     },
     "output_type": "display_data"
    }
   ],
   "source": [
    "#Set X, y values\n",
    "x_values = northern_hem[\"Latitude\"]\n",
    "y_values = northern_hem[\"Temperature\"]\n",
    "\n",
    "#Linear regression model\n",
    "(slope, intercept, rvalue, pvalue, stderr) = linregress(x_values, y_values)\n",
    "regress_values = slope*x_values + intercept\n",
    "lineeq = \"y = \" + str(round(slope,2)) + \"x +\" + str(round(intercept,2))\n",
    "\n",
    "#Plot\n",
    "plt.scatter(x_values, y_values)\n",
    "plt.plot(x_values, regress_values, \"r\")\n",
    "\n",
    "# Set a Title and labels\n",
    "plt.xlabel(\"Latitude\")\n",
    "plt.ylabel(\"Max Temp\")\n",
    "plt.title(\"Northern Hemisphere - Max Temp vs. Latitude ({})\".format(date), color=\"black\", fontweight=\"bold\") \n",
    "plt.annotate(lineeq,(18,32), fontsize=15, color=\"b\")\n",
    "\n",
    "#Print\n",
    "print(f'Value of R = {round(rvalue*rvalue,3)}')\n",
    "\n",
    "#Save the figure\n",
    "plt.savefig(\"Images/North Hemisphere - Max_Temperature vs Latitude\")"
   ]
  },
  {
   "cell_type": "markdown",
   "metadata": {},
   "source": [
    "There is moderate negative correlation between temperature and latitude for the northern hemisphere."
   ]
  },
  {
   "cell_type": "markdown",
   "metadata": {},
   "source": [
    "Southern Hemisphere - Max Temp vs. Latitude Linear Regression"
   ]
  },
  {
   "cell_type": "code",
   "execution_count": 15,
   "metadata": {},
   "outputs": [
    {
     "name": "stdout",
     "output_type": "stream",
     "text": [
      "Value of R = 0.556\n"
     ]
    },
    {
     "data": {
      "image/png": "[encoded data removed]",
      "text/plain": [
       "<Figure size 432x288 with 1 Axes>"
      ]
     },
     "metadata": {
      "needs_background": "light"
     },
     "output_type": "display_data"
    }
   ],
   "source": [
    "#Set X, y values\n",
    "x_values = southern_hem[\"Latitude\"]\n",
    "y_values = southern_hem[\"Temperature\"]\n",
    "\n",
    "#Linear regression model\n",
    "(slope, intercept, rvalue, pvalue, stderr) = linregress(x_values, y_values)\n",
    "regress_values = slope*x_values + intercept\n",
    "lineeq = \"y = \" + str(round(slope,2)) + \"x +\" + str(round(intercept,2))\n",
    "\n",
    "#Plot\n",
    "plt.scatter(x_values, y_values)\n",
    "plt.plot(x_values, regress_values, \"r\")\n",
    "\n",
    "# Set a Title and labels\n",
    "plt.xlabel(\"Latitude\")\n",
    "plt.ylabel(\"Max Temp\")\n",
    "plt.title(\"Southern Hemisphere - Max_Temperature vs. Latitude ({})\".format(date), color=\"black\", fontweight=\"bold\") \n",
    "plt.annotate(lineeq,(-30,10), fontsize=15, color=\"b\")\n",
    "\n",
    "#Print\n",
    "print(f'Value of R = {round(rvalue*rvalue,3)}')\n",
    "\n",
    "#Save the figure\n",
    "plt.savefig(\"Images/Southern Hemisphere - Max_Temperature vs Latitude\")"
   ]
  },
  {
   "cell_type": "markdown",
   "metadata": {},
   "source": [
    "There is moderate positive correlation between temperature and latitude for the Southern Hemisphere."
   ]
  },
  {
   "cell_type": "markdown",
   "metadata": {},
   "source": [
    "####  Northern Hemisphere - Humidity (%) vs. Latitude Linear Regression"
   ]
  },
  {
   "cell_type": "code",
   "execution_count": 16,
   "metadata": {},
   "outputs": [
    {
     "name": "stdout",
     "output_type": "stream",
     "text": [
      "Value of R = 0.001\n"
     ]
    },
    {
     "data": {
      "image/png": "[encoded data removed]",
      "text/plain": [
       "<Figure size 432x288 with 1 Axes>"
      ]
     },
     "metadata": {
      "needs_background": "light"
     },
     "output_type": "display_data"
    }
   ],
   "source": [
    "#Set X, y values\n",
    "x_values = northern_hem[\"Latitude\"]\n",
    "y_values = northern_hem[\"Humidity\"]\n",
    "\n",
    "#Linear regression model\n",
    "(slope, intercept, rvalue, pvalue, stderr) = linregress(x_values, y_values)\n",
    "regress_values = slope*x_values + intercept\n",
    "lineeq = \"y = \" + str(round(slope,2)) + \"x +\" + str(round(intercept,2))\n",
    "\n",
    "#Plot\n",
    "plt.scatter(x_values, y_values)\n",
    "plt.plot(x_values, regress_values, \"r\")\n",
    "\n",
    "# Set a Title and labels\n",
    "plt.xlabel(\"Latitude\")\n",
    "plt.ylabel(\"Humidity\")\n",
    "plt.title(\"Northern Hemisphere - Humidity(%) vs. Latitude ({})\".format(date), color=\"black\", fontweight=\"bold\") \n",
    "plt.annotate(lineeq,(18,50), fontsize=15, color=\"b\")\n",
    "\n",
    "#Print\n",
    "print(f'Value of R = {round(rvalue*rvalue,3)}')\n",
    "\n",
    "#Save the figure\n",
    "plt.savefig(\"Images/North Hemisphere - Humidity (%) vs Latitude\")"
   ]
  },
  {
   "cell_type": "markdown",
   "metadata": {},
   "source": [
    "There is no correlation between humidity and latitude for the Northern Hemisphere."
   ]
  },
  {
   "cell_type": "markdown",
   "metadata": {},
   "source": [
    "####  Southern Hemisphere - Humidity (%) vs. Latitude Linear Regression"
   ]
  },
  {
   "cell_type": "code",
   "execution_count": 17,
   "metadata": {},
   "outputs": [
    {
     "name": "stdout",
     "output_type": "stream",
     "text": [
      "Value of R = 0.006\n"
     ]
    },
    {
     "data": {
      "image/png": "[encoded data removed]",
      "text/plain": [
       "<Figure size 432x288 with 1 Axes>"
      ]
     },
     "metadata": {
      "needs_background": "light"
     },
     "output_type": "display_data"
    }
   ],
   "source": [
    "#Set X, y values\n",
    "x_values = southern_hem[\"Latitude\"]\n",
    "y_values = southern_hem[\"Humidity\"]\n",
    "\n",
    "#Linear regression model\n",
    "(slope, intercept, rvalue, pvalue, stderr) = linregress(x_values, y_values)\n",
    "regress_values = slope*x_values + intercept\n",
    "lineeq = \"y = \" + str(round(slope,2)) + \"x +\" + str(round(intercept,2))\n",
    "\n",
    "#Plot\n",
    "plt.scatter(x_values, y_values)\n",
    "plt.plot(x_values, regress_values, \"r\")\n",
    "\n",
    "# Set a Title and labels\n",
    "plt.xlabel(\"Latitude\")\n",
    "plt.ylabel(\"Humidity\")\n",
    "plt.title(\"Southern Hemisphere - Humidity(%) vs. Latitude ({})\".format(date), color=\"black\", fontweight=\"bold\") \n",
    "plt.annotate(lineeq,(-40,60), fontsize=15, color=\"b\")\n",
    "\n",
    "#Print\n",
    "print(f'Value of R = {round(rvalue*rvalue,3)}')\n",
    "\n",
    "#Save the figure\n",
    "plt.savefig(\"Images/South Hemisphere - Humidity (%) vs Latitude\")"
   ]
  },
  {
   "cell_type": "markdown",
   "metadata": {},
   "source": [
    "There is no correlation between humidity and latitude for the Southern Hemisphere."
   ]
  },
  {
   "cell_type": "markdown",
   "metadata": {},
   "source": [
    "####  Northern Hemisphere - Cloudiness (%) vs. Latitude Linear Regression"
   ]
  },
  {
   "cell_type": "code",
   "execution_count": 18,
   "metadata": {},
   "outputs": [
    {
     "name": "stdout",
     "output_type": "stream",
     "text": [
      "Value of R = 0.0\n"
     ]
    },
    {
     "data": {
      "image/png": "[encoded data removed]",
      "text/plain": [
       "<Figure size 432x288 with 1 Axes>"
      ]
     },
     "metadata": {
      "needs_background": "light"
     },
     "output_type": "display_data"
    }
   ],
   "source": [
    "#Set X, y values\n",
    "x_values = northern_hem[\"Latitude\"]\n",
    "y_values = northern_hem[\"Cloudiness\"]\n",
    "\n",
    "#Linear regression model\n",
    "(slope, intercept, rvalue, pvalue, stderr) = linregress(x_values, y_values)\n",
    "regress_values = slope*x_values + intercept\n",
    "lineeq = \"y = \" + str(round(slope,2)) + \"x +\" + str(round(intercept,2))\n",
    "\n",
    "#Plot\n",
    "plt.scatter(x_values, y_values)\n",
    "plt.plot(x_values, regress_values, \"r\")\n",
    "\n",
    "# Set a Title and labels\n",
    "plt.xlabel(\"Latitude\")\n",
    "plt.ylabel(\"Cloudiness\")\n",
    "plt.title(\"Northern Hemisphere - Cloudiness(%) vs. Latitude({})\".format(date), color=\"black\", fontweight=\"bold\") \n",
    "plt.annotate(lineeq,(18,55), fontsize=15, color=\"b\")\n",
    "\n",
    "#Print\n",
    "print(f'Value of R = {round(rvalue*rvalue,3)}')\n",
    "\n",
    "#Save the figure\n",
    "plt.savefig(\"Images/North Hemisphere - Cloudiness (%) vs Latitude\")"
   ]
  },
  {
   "cell_type": "markdown",
   "metadata": {},
   "source": [
    "There is no correlation between cloudiness and latitude for the Northern Hemisphere."
   ]
  },
  {
   "cell_type": "markdown",
   "metadata": {},
   "source": [
    "####  Southern Hemisphere - Cloudiness (%) vs. Latitude Linear Regression"
   ]
  },
  {
   "cell_type": "code",
   "execution_count": 19,
   "metadata": {},
   "outputs": [
    {
     "name": "stdout",
     "output_type": "stream",
     "text": [
      "Value of R = 0.007\n"
     ]
    },
    {
     "data": {
      "image/png": "[encoded data removed]",
      "text/plain": [
       "<Figure size 432x288 with 1 Axes>"
      ]
     },
     "metadata": {
      "needs_background": "light"
     },
     "output_type": "display_data"
    }
   ],
   "source": [
    "#Set X, y values\n",
    "x_values = southern_hem[\"Latitude\"]\n",
    "y_values = southern_hem[\"Cloudiness\"]\n",
    "\n",
    "#Linear regression model\n",
    "(slope, intercept, rvalue, pvalue, stderr) = linregress(x_values, y_values)\n",
    "regress_values = slope*x_values + intercept\n",
    "lineeq = \"y = \" + str(round(slope,2)) + \"x +\" + str(round(intercept,2))\n",
    "\n",
    "#Plot\n",
    "plt.scatter(x_values, y_values)\n",
    "plt.plot(x_values, regress_values, \"r\")\n",
    "\n",
    "# Set a Title and labels\n",
    "plt.xlabel(\"Latitude\")\n",
    "plt.ylabel(\"Cloudiness\")\n",
    "plt.title(\"Southern Hemisphere - Cloudiness(%) vs. Latitude ({})\".format(date), color=\"black\", fontweight=\"bold\") \n",
    "plt.annotate(lineeq,(-45,25), fontsize=15, color=\"b\")\n",
    "\n",
    "#Print\n",
    "print(f'Value of R = {round(rvalue*rvalue,3)}')\n",
    "\n",
    "#Save the figure\n",
    "plt.savefig(\"Images/South Hemisphere - Cloudiness (%) vs Latitude\")"
   ]
  },
  {
   "cell_type": "markdown",
   "metadata": {},
   "source": [
    "There is no negative correlation between cloudiness and latitude for the Southern Hemisphere."
   ]
  },
  {
   "cell_type": "markdown",
   "metadata": {},
   "source": [
    "####  Northern Hemisphere - Wind Speed (mph) vs. Latitude Linear Regression"
   ]
  },
  {
   "cell_type": "code",
   "execution_count": 20,
   "metadata": {},
   "outputs": [
    {
     "name": "stdout",
     "output_type": "stream",
     "text": [
      "Value of R = 0.019\n"
     ]
    },
    {
     "data": {
      "image/png": "[encoded data removed]",
      "text/plain": [
       "<Figure size 432x288 with 1 Axes>"
      ]
     },
     "metadata": {
      "needs_background": "light"
     },
     "output_type": "display_data"
    }
   ],
   "source": [
    "#Set X, y values\n",
    "x_values = northern_hem[\"Latitude\"]\n",
    "y_values = northern_hem[\"Wind Speed\"]\n",
    "\n",
    "#Linear regression model\n",
    "(slope, intercept, rvalue, pvalue, stderr) = linregress(x_values, y_values)\n",
    "regress_values = slope*x_values + intercept\n",
    "lineeq = \"y = \" + str(round(slope,2)) + \"x +\" + str(round(intercept,2))\n",
    "\n",
    "#Plot\n",
    "plt.scatter(x_values, y_values)\n",
    "plt.plot(x_values, regress_values, \"r\")\n",
    "\n",
    "# Set a Title and labels\n",
    "plt.xlabel(\"Latitude\")\n",
    "plt.ylabel(\"Wind Speed (mph)\")\n",
    "plt.title(\"Northern Hemisphere - Wind Speed (mph) vs. Latitude ({})\".format(date), color=\"black\", fontweight=\"bold\") \n",
    "plt.annotate(lineeq,(18,4), fontsize=15, color=\"b\")\n",
    "\n",
    "#Print\n",
    "print(f'Value of R = {round(rvalue*rvalue,3)}')\n",
    "\n",
    "#Save the figure\n",
    "plt.savefig(\"Images/North Hemisphere - Wind Speed (mph) vs Latitude\")"
   ]
  },
  {
   "cell_type": "markdown",
   "metadata": {},
   "source": [
    "There is no correlation between wind speed and latitude for the Northern Hemisphere."
   ]
  },
  {
   "cell_type": "markdown",
   "metadata": {},
   "source": [
    "####  Southern Hemisphere - Wind Speed (mph) vs. Latitude Linear Regression"
   ]
  },
  {
   "cell_type": "code",
   "execution_count": 21,
   "metadata": {},
   "outputs": [
    {
     "name": "stdout",
     "output_type": "stream",
     "text": [
      "Value of R = 0.062\n"
     ]
    },
    {
     "data": {
      "image/png": "[encoded data removed]",
      "text/plain": [
       "<Figure size 432x288 with 1 Axes>"
      ]
     },
     "metadata": {
      "needs_background": "light"
     },
     "output_type": "display_data"
    }
   ],
   "source": [
    "#Set X, y values\n",
    "x_values = southern_hem[\"Latitude\"]\n",
    "y_values = southern_hem[\"Wind Speed\"]\n",
    "\n",
    "#Linear regression model\n",
    "(slope, intercept, rvalue, pvalue, stderr) = linregress(x_values, y_values)\n",
    "regress_values = slope*x_values + intercept\n",
    "lineeq = \"y = \" + str(round(slope,2)) + \"x +\" + str(round(intercept,2))\n",
    "\n",
    "#Plot\n",
    "plt.scatter(x_values, y_values)\n",
    "plt.plot(x_values, regress_values, \"r\")\n",
    "\n",
    "# Set a Title and labels\n",
    "plt.xlabel(\"Latitude\")\n",
    "plt.ylabel(\"Wind Speed (mph)\")\n",
    "plt.title(\"Southern Hemisphere - Wind Speed (mph) vs. Latitude ({})\".format(date), color=\"black\", fontweight=\"bold\") \n",
    "plt.annotate(lineeq,(-30, 2), fontsize=15, color=\"b\")\n",
    "\n",
    "#Print\n",
    "print(f'Value of R = {round(rvalue*rvalue,3)}')\n",
    "\n",
    "#Save the figure\n",
    "plt.savefig(\"Images/South Hemisphere - Wind Speed (mph) vs Latitude\")"
   ]
  },
  {
   "cell_type": "markdown",
   "metadata": {},
   "source": [
    "There is no correlation between wind speed and latitude for the Sourthern Hemisphere."
   ]
  },
  {
   "cell_type": "code",
   "execution_count": null,
   "metadata": {},
   "outputs": [],
   "source": []
  }
 ],
 "metadata": {
  "anaconda-cloud": {},
  "kernel_info": {
   "name": "python3"
  },
  "kernelspec": {
   "display_name": "Python 3",
   "language": "python",
   "name": "python3"
  },
  "language_info": {
   "codemirror_mode": {
    "name": "ipython",
    "version": 3
   },
   "file_extension": ".py",
   "mimetype": "text/x-python",
   "name": "python",
   "nbconvert_exporter": "python",
   "pygments_lexer": "ipython3",
   "version": "3.7.6"
  },
  "latex_envs": {
   "LaTeX_envs_menu_present": true,
   "autoclose": false,
   "autocomplete": true,
   "bibliofile": "biblio.bib",
   "cite_by": "apalike",
   "current_citInitial": 1,
   "eqLabelWithNumbers": true,
   "eqNumInitial": 1,
   "hotkeys": {
    "equation": "Ctrl-E",
    "itemize": "Ctrl-I"
   },
   "labels_anchors": false,
   "latex_user_defs": false,
   "report_style_numbering": false,
   "user_envs_cfg": false
  },
  "nteract": {
   "version": "0.12.3"
  }
 },
 "nbformat": 4,
 "nbformat_minor": 2
}
